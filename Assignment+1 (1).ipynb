{
 "cells": [
  {
   "cell_type": "code",
   "execution_count": 63,
   "metadata": {
    "collapsed": false
   },
   "outputs": [
    {
     "name": "stdout",
     "output_type": "stream",
     "text": [
      "What is your name? Jason\n",
      "Hello, Jason, nice to meet you!\n"
     ]
    }
   ],
   "source": [
    "# Problem 1\n",
    "# A friendly, personalized greeting to the user from their computer.\n",
    "\n",
    "# User input for their name, which then prints to the console.\n",
    "name = input(\"What is your name? \")\n",
    "print(\"Hello,\", name+\",\", \"nice to meet you!\")\n"
   ]
  },
  {
   "cell_type": "code",
   "execution_count": 2,
   "metadata": {
    "collapsed": false
   },
   "outputs": [
    {
     "name": "stdout",
     "output_type": "stream",
     "text": [
      "What is the input string? How about now?\n",
      "\"How about now?\" has 14 characters.\n"
     ]
    }
   ],
   "source": [
    "# Problem 2\n",
    "# A calculator for the length of any string.\n",
    "\n",
    "# User input for a string, which then prints the string and it's length.\n",
    "string = input(\"What is the input string? \")\n",
    "print('\"' + string + '\"', \"has\", len(string), \"characters.\")\n"
   ]
  },
  {
   "cell_type": "code",
   "execution_count": 4,
   "metadata": {
    "collapsed": false
   },
   "outputs": [
    {
     "name": "stdout",
     "output_type": "stream",
     "text": [
      "Enter a noun: student\n",
      "Enter a verb (present tense): sleep\n",
      "Enter an adverb: boldly\n",
      "Enter an adjective: brave\n",
      "The brave student has to sleep boldly after four hours of Python on Monday nights.\n"
     ]
    }
   ],
   "source": [
    "# Problem 3\n",
    "# To prompt a user to create a simple game of madlibs.\n",
    "\n",
    "# User inputs for a noun, verb, adverb, and adjective as a string for madlibs game.\n",
    "noun = input(\"Enter a noun: \")\n",
    "verb = input(\"Enter a verb (present tense): \")\n",
    "adverb = input(\"Enter an adverb: \")\n",
    "adj = input(\"Enter an adjective: \")\n",
    "\n",
    "# print results to the console\n",
    "print(\"The\", adj, noun, \"has to\", verb, adverb, \"after four hours of Python on Monday nights.\")\n"
   ]
  },
  {
   "cell_type": "code",
   "execution_count": 30,
   "metadata": {
    "collapsed": false
   },
   "outputs": [
    {
     "name": "stdout",
     "output_type": "stream",
     "text": [
      "What is the first number? 20\n",
      "What is the second number? 10\n",
      "20.0 / 10.0  =  2.0 \n",
      "20.0 * 10.0  =  200.0 \n",
      "20.0 + 10.0  =  30.0 \n",
      "20.0 - 10.0  =  10.0\n"
     ]
    }
   ],
   "source": [
    "# Problem 4\n",
    "# Creating an output of the four main mathematical calculations for two numbers.\n",
    "\n",
    "# Prompt user for two numbers\n",
    "x = float(input(\"What is the first number? \"))\n",
    "y = float(input(\"What is the second number? \"))\n",
    "\n",
    "# Mathematical operations on the two numbers, rounded to 5 decimals\n",
    "div = round(x/y,5)\n",
    "mult = round(x*y,5)\n",
    "add = round(x+y,5)\n",
    "subt = round(x-y,5)\n",
    "\n",
    "# Print results\n",
    "print(str(x), \"/\", str(y) ,\" = \", div, \"\\n\" +\n",
    "      str(x), \"*\", str(y) ,\" = \", mult, \"\\n\"+\n",
    "      str(x), \"+\", str(y) ,\" = \", add, \"\\n\" +\n",
    "      str(x), \"-\", str(y) ,\" = \", subt)"
   ]
  },
  {
   "cell_type": "code",
   "execution_count": 16,
   "metadata": {
    "collapsed": false
   },
   "outputs": [
    {
     "name": "stdout",
     "output_type": "stream",
     "text": [
      "What is your current age (in years)? 29\n",
      "What age would you like to retire at? 55\n",
      "You can retire in 26 years.\n",
      "It's 2017, so you can retire in 2043.\n"
     ]
    }
   ],
   "source": [
    "# Problem 5\n",
    "# A calculator to figure out how long a person will have to wait before retirement.\n",
    "\n",
    "# Prompt user for current age and desired age of retirement, and then calculate the difference.\n",
    "age_cur = round(int(input(\"What is your current age (in years)? \")),0)\n",
    "age_ret = round(int(input(\"What age would you like to retire at? \")),0)\n",
    "age_diff = age_ret - age_cur\n",
    "\n",
    "# Import datetime package to extract current year.\n",
    "import datetime\n",
    "now = datetime.datetime.now()\n",
    "year_cur = now.year\n",
    "year_ret = year_cur + age_diff\n",
    "\n",
    "# Print results\n",
    "print(\"You can retire in\", str(age_diff), \"years\" + \".\")\n",
    "print(\"It's\", str(year_cur) + \",\", \"so you can retire in\", str(year_ret) + \".\")"
   ]
  },
  {
   "cell_type": "code",
   "execution_count": 29,
   "metadata": {
    "collapsed": false
   },
   "outputs": [
    {
     "name": "stdout",
     "output_type": "stream",
     "text": [
      "What is the length of the room (in feet)? 20\n",
      "What is the width of the room (in feet)? 10\n",
      "You have entered dimensions of 20.0 feet by 10.0 feet. \n",
      "The area is... \n",
      "200.0 square feet \n",
      "18.5806 square meters\n"
     ]
    }
   ],
   "source": [
    "# Problem 6\n",
    "# Calculate the area of a room in both square feet and square meters.\n",
    "\n",
    "# Prompt user for dimensions of the room.\n",
    "room_length = float(input(\"What is the length of the room (in feet)? \"))\n",
    "room_width = float(input(\"What is the width of the room (in feet)? \"))\n",
    "\n",
    "# calculate square feet and square meters using the feet-to-meters conversion\n",
    "sqft = room_length * room_width\n",
    "ft_to_m = .09290304\n",
    "sqm = round(ft_to_m * sqft,4)                    # rounded to 4 decimals\n",
    "\n",
    "print(\"You have entered dimensions of\", room_length, \"feet by\", room_width, \"feet.\", \"\\n\"\n",
    "     \"The area is...\", \"\\n\" +\n",
    "     str(sqft), \"square feet\", \"\\n\" +\n",
    "     str(sqm), \"square meters\")"
   ]
  },
  {
   "cell_type": "code",
   "execution_count": 19,
   "metadata": {
    "collapsed": false
   },
   "outputs": [
    {
     "name": "stdout",
     "output_type": "stream",
     "text": [
      "How many people are there? 5\n",
      "How many pizzas are there? 2\n",
      "How many slices per pizza are there? 8\n",
      "5 people with 2 pizzas. \n",
      "Each person gets 3 slices of pizza. \n",
      "There are 1 leftover slices.\n"
     ]
    }
   ],
   "source": [
    "# Problem 7\n",
    "# Figure out the number of slices of pizza each person in a party can eat to keep things even.\n",
    "\n",
    "# User inputs on pizzas and number of people.\n",
    "people = int(input(\"How many people are there? \"))\n",
    "pizzas = int(input(\"How many pizzas are there? \"))\n",
    "slices = int(input(\"How many slices per pizza are there? \"))\n",
    "\n",
    "# Calculate the total number of slices available\n",
    "total_slices = pizzas * slices\n",
    "\n",
    "#Calculate the slices per person and the leftovers\n",
    "import numpy as np\n",
    "slice_per = int(np.floor(total_slices /people))\n",
    "leftovers = total_slices - (slice_per * people)\n",
    "\n",
    "# Print results\n",
    "print(people, \"people with\", pizzas, \"pizzas.\", \"\\n\"\n",
    "     \"Each person gets\", slice_per, \"slices of pizza.\", \"\\n\"\n",
    "     \"There are\", leftovers, \"leftover slices.\")"
   ]
  },
  {
   "cell_type": "code",
   "execution_count": 98,
   "metadata": {
    "collapsed": false
   },
   "outputs": [
    {
     "name": "stdout",
     "output_type": "stream",
     "text": [
      "Enter the length of your ceiling: 35.1\n",
      "Enter the width of your ceiling: 100\n",
      "You will need to purchase 11 gallons of paint to cover 3510.0 square feet of ceiling.\n"
     ]
    }
   ],
   "source": [
    "# Problem 8\n",
    "# Calculate the number of gallons of paint needed to be purchased to paint a ceiling.\n",
    "\n",
    "# User inputs for dimensions of ceiling\n",
    "length = float(input(\"Enter the length of your ceiling: \"))\n",
    "width = float(input(\"Enter the width of your ceiling: \"))\n",
    "\n",
    "# Calc square footage of ceiling\n",
    "sqft_ceil = length*width\n",
    "\n",
    "# How many gallons of paint per sqft?\n",
    "gallon = 350\n",
    "\n",
    "# Calc gallons of paint needed (rounded up to nearest integer)\n",
    "import numpy as np\n",
    "gallons_needed = int(np.ceil(sqft_ceil/gallon))\n",
    "\n",
    "# Print results\n",
    "print(\"You will need to purchase\", gallons_needed, \"gallons of paint to cover\", sqft_ceil, \"square feet of ceiling.\")"
   ]
  },
  {
   "cell_type": "code",
   "execution_count": 22,
   "metadata": {
    "collapsed": false
   },
   "outputs": [
    {
     "name": "stdout",
     "output_type": "stream",
     "text": [
      "Enter the price of item 1: $4.5\n",
      "Enter the quantity of item 1: 1\n",
      "Enter the price of item 2: $5.55\n",
      "Enter the quantity of item 2: 1\n",
      "Enter the price of item 3: $1\n",
      "Enter the quantity of item 3: 2\n",
      "Subtotal: $12.05\n",
      "Tax: $0.66\n",
      "Total: $12.71\n"
     ]
    }
   ],
   "source": [
    "# Problem 9\n",
    "# Calculate a simple grocery bill.\n",
    "\n",
    "# Prompt user for price and quantity info on 3 items\n",
    "price_1 = float(input(\"Enter the price of item 1: $\"))\n",
    "qty_1 = float(input(\"Enter the quantity of item 1: \"))\n",
    "price_2 = float(input(\"Enter the price of item 2: $\"))\n",
    "qty_2 = float(input(\"Enter the quantity of item 2: \"))\n",
    "price_3 = float(input(\"Enter the price of item 3: $\"))\n",
    "qty_3 = float(input(\"Enter the quantity of item 3: \"))\n",
    "\n",
    "# Calc and add up subtotals of each item\n",
    "Subtotal_1 = price_1*qty_1\n",
    "Subtotal_2 = price_2*qty_2\n",
    "Subtotal_3 = price_3*qty_3\n",
    "Subtotal = Subtotal_1 + Subtotal_2 + Subtotal_3\n",
    "\n",
    "# Calc the tax paid on the order\n",
    "Tax_rate = .055\n",
    "Tax = round(Tax_rate * Subtotal, 2)\n",
    "\n",
    "# Calc the total\n",
    "Total = Subtotal + Tax\n",
    "\n",
    "# Print result\n",
    "print(\"Subtotal: $\" + str(Subtotal))\n",
    "print(\"Tax: $\" + str(Tax))\n",
    "print(\"Total: $\" + str(Total))"
   ]
  },
  {
   "cell_type": "code",
   "execution_count": 108,
   "metadata": {
    "collapsed": false
   },
   "outputs": [
    {
     "name": "stdout",
     "output_type": "stream",
     "text": [
      "Enter the principal amount: $1000\n",
      "Enter the interest rate (as a percentage): 5\n",
      "Enter the number of years on the term: 5\n",
      "After 5 years at 5.0% interest, your investment will be worth $1,250.00.\n"
     ]
    }
   ],
   "source": [
    "# Problem 10\n",
    "# Calculate simple interest and future value of an investment\n",
    "\n",
    "# prompt user for principal, rate, and term\n",
    "principal = float(input(\"Enter the principal amount: $\"))\n",
    "rate = float(input(\"Enter the interest rate (as a percentage): \"))/100\n",
    "term = int(input(\"Enter the number of years on the term: \"))\n",
    "\n",
    "# calc future value & then convert to currency\n",
    "fv = round(principal*(1 + rate*term),2)\n",
    "fv = '${:,.2f}'.format(fv)\n",
    "\n",
    "# Print result\n",
    "print(\"After\", term, \"years at\", str(rate*100) + \"% interest, your investment will be worth \" + fv +\".\")"
   ]
  }
 ],
 "metadata": {
  "anaconda-cloud": {},
  "kernelspec": {
   "display_name": "Python [default]",
   "language": "python",
   "name": "python3"
  },
  "language_info": {
   "codemirror_mode": {
    "name": "ipython",
    "version": 3
   },
   "file_extension": ".py",
   "mimetype": "text/x-python",
   "name": "python",
   "nbconvert_exporter": "python",
   "pygments_lexer": "ipython3",
   "version": "3.5.2"
  }
 },
 "nbformat": 4,
 "nbformat_minor": 1
}
